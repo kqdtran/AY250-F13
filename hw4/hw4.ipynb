{
 "metadata": {
  "name": ""
 },
 "nbformat": 3,
 "nbformat_minor": 0,
 "worksheets": [
  {
   "cells": [
    {
     "cell_type": "code",
     "collapsed": false,
     "input": [
      "import os\n",
      "from os import listdir\n",
      "from multiprocessing import Pool, cpu_count\n",
      "from pylab import imread\n",
      "from time import time\n",
      "\n",
      "# For image manipulation\n",
      "import numpy as np\n",
      "from skimage import color\n",
      "from skimage import data\n",
      "from skimage import feature\n",
      "from skimage import filter\n",
      "from skimage.filter import rank\n",
      "from skimage import morphology\n",
      "from skimage import measure\n",
      "\n",
      "MYDIRECTORY = os.path.join('.', '50_categories')"
     ],
     "language": "python",
     "metadata": {},
     "outputs": [],
     "prompt_number": 79
    },
    {
     "cell_type": "markdown",
     "metadata": {},
     "source": [
      "2) **Compute features for one of the images**"
     ]
    },
    {
     "cell_type": "code",
     "collapsed": false,
     "input": [
      "# Take in one image only, and extract features from that image\n",
      "def extract_feature(imagePath):\n",
      "    features = []\n",
      "    imageArray = imread(imagePath)\n",
      "    greyImage = color.rgb2grey(imageArray)\n",
      "    \n",
      "    # Image array size\n",
      "    features.append(imageArray.size)\n",
      "    \n",
      "    # Average of each RGB channel\n",
      "    RGBavg = np.average(np.average(imageArray, axis=0), axis=0)\n",
      "    for part in RGBavg:                        \n",
      "        features.append(part)\n",
      "        \n",
      "    # Cross correlation between the RGB channels\n",
      "    RGBsum = np.sum(imageArray, axis=0)\n",
      "    red = RGBsum[:, 0]\n",
      "    green = RGBsum[:, 1]\n",
      "    blue = RGBsum[:, 2]\n",
      "    features.append(sum(np.correlate(red, green)))\n",
      "    features.append(sum(np.correlate(blue, red)))\n",
      "    features.append(sum(np.correlate(green, blue)))\n",
      "    \n",
      "    # Corner detection with features\n",
      "    features.append(np.average(feature.corner_harris(imageArray)))\n",
      "    features.append(np.average(feature.peak_local_max(imageArray)))\n",
      "    \n",
      "    return features\n",
      "    \n",
      "print extract_feature(MYDIRECTORY + \"/bat/bat_0009.jpg\")"
     ],
     "language": "python",
     "metadata": {},
     "outputs": [
      {
       "output_type": "stream",
       "stream": "stdout",
       "text": [
        "[269850, 131.05454141189554, 107.70605892162308, 99.853251806559228, 3991660372, 3117789382, 3426631636, -0.0023308621619179491, 103.98060147877378]\n"
       ]
      }
     ],
     "prompt_number": 81
    },
    {
     "cell_type": "markdown",
     "metadata": {},
     "source": [
      "**Parallelizing code adapted from Josh and Adam's version to extract features for all images**"
     ]
    },
    {
     "cell_type": "code",
     "collapsed": false,
     "input": [
      "# FUNCTION DEFINITIONS\n",
      "# Quick function to divide up a large list into multiple small lists, \n",
      "# attempting to keep them all the same size. \n",
      "def split_seq(seq, size):\n",
      "  newseq = []\n",
      "  splitsize = 1.0/size*len(seq)\n",
      "  for i in range(size):\n",
      "    newseq.append(seq[int(round(i*splitsize)):\n",
      "      int(round((i+1)*splitsize))])\n",
      "  return newseq"
     ],
     "language": "python",
     "metadata": {},
     "outputs": [],
     "prompt_number": 11
    },
    {
     "cell_type": "code",
     "collapsed": false,
     "input": [
      "# Our simple feature extraction function. It takes in a list of image paths, \n",
      "# does some measurement on each image, then returns a list of the image paths\n",
      "# paired with the results of the feature measurement.\n",
      "def extract_features(image_path_list):\n",
      "  feature_list = []\n",
      "  for image_path in image_path_list:\n",
      "    image_array = imread(image_path)    #### FIX THIS HOIHNOLINPLIN:LINLNLNNNNLNLNL\n",
      "    # This feature is simple. You can modify this\n",
      "    # code to produce more complicated features and to produce multiple\n",
      "    # features in one function call.\n",
      "    feature = image_array.size \n",
      "    feature_list.append([image_path, feature])\n",
      "  return feature_list"
     ],
     "language": "python",
     "metadata": {},
     "outputs": [],
     "prompt_number": 10
    },
    {
     "cell_type": "code",
     "collapsed": false,
     "input": [
      "# We first collect all the local paths to all the images in one list\n",
      "image_paths = []\n",
      "categories = listdir(MYDIRECTORY)\n",
      "for category in categories:\n",
      "  image_names = listdir(MYDIRECTORY  + \"/\" + category)\n",
      "  for name in image_names:\n",
      "    image_paths.append(MYDIRECTORY + \"/\" + category + \"/\" + name)\n",
      "\n",
      "print (\"There should be 4244 images, actual number is \" + \n",
      "  str(len(image_paths)) + \".\")"
     ],
     "language": "python",
     "metadata": {},
     "outputs": [
      {
       "output_type": "stream",
       "stream": "stdout",
       "text": [
        "There should be 4244 images, actual number is 4244.\n"
       ]
      }
     ],
     "prompt_number": 4
    },
    {
     "cell_type": "code",
     "collapsed": false,
     "input": [
      "# Then, we run the feature extraction function using multiprocessing.Pool so \n",
      "# so that we can parallelize the process and run it much faster.\n",
      "numprocessors = cpu_count() # To see results of parallelizing, set numprocessors\n",
      "                            # to less than cpu_count().\n",
      "print \"Number of processors:\", numprocessors\n",
      "# numprocessors = 1"
     ],
     "language": "python",
     "metadata": {},
     "outputs": [
      {
       "output_type": "stream",
       "stream": "stdout",
       "text": [
        "Number of processors: 4\n"
       ]
      }
     ],
     "prompt_number": 5
    },
    {
     "cell_type": "code",
     "collapsed": false,
     "input": [
      "# We have to cut up the image_paths list into the number of processes we want to run. \n",
      "split_image_paths = split_seq(image_paths, numprocessors)"
     ],
     "language": "python",
     "metadata": {},
     "outputs": [],
     "prompt_number": 6
    },
    {
     "cell_type": "code",
     "collapsed": false,
     "input": [
      "# Ok, this block is where the parallel code runs. \n",
      "# We time it so we can get a feel for the speed up.\n",
      "start_time = time()\n",
      "p = Pool(numprocessors)\n",
      "result = p.map_async(extract_features, split_image_paths)\n",
      "poolresult = result.get()\n",
      "end_time = time()"
     ],
     "language": "python",
     "metadata": {},
     "outputs": [],
     "prompt_number": 7
    },
    {
     "cell_type": "code",
     "collapsed": false,
     "input": [
      "# All done, print timing results.\n",
      "print (\"Finished extracting features. Total time: \" + \n",
      "  str(round(end_time-start_time, 3)) + \" s, or \" + \n",
      "  str( round( (end_time-start_time)/len(image_paths), 5 ) ) + \" s/image.\")"
     ],
     "language": "python",
     "metadata": {},
     "outputs": [
      {
       "output_type": "stream",
       "stream": "stdout",
       "text": [
        "Finished extracting features. Total time: 8.089 s, or 0.00191 s/image.\n"
       ]
      }
     ],
     "prompt_number": 8
    },
    {
     "cell_type": "code",
     "collapsed": false,
     "input": [
      "# To tidy-up a bit, we loop through the poolresult to create a final list of\n",
      "# the feature extraction results for all images.\n",
      "combined_result = []\n",
      "for single_proc_result in poolresult:\n",
      "  for single_image_result in single_proc_result:\n",
      "    combined_result.append(single_image_result)\n",
      "print len(combined_result)"
     ],
     "language": "python",
     "metadata": {},
     "outputs": [
      {
       "output_type": "stream",
       "stream": "stdout",
       "text": [
        "1061\n"
       ]
      }
     ],
     "prompt_number": 9
    },
    {
     "cell_type": "markdown",
     "metadata": {},
     "source": [
      "3) **Build a random forest classifier for the training set**"
     ]
    },
    {
     "cell_type": "code",
     "collapsed": false,
     "input": [],
     "language": "python",
     "metadata": {},
     "outputs": []
    }
   ],
   "metadata": {}
  }
 ]
}